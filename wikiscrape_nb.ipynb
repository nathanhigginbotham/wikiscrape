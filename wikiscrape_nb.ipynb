{
 "cells": [
  {
   "cell_type": "markdown",
   "metadata": {},
   "source": [
    "# Purpose\n",
    "I want to be able to figure out which parkruns I can in future weeks and I want to know the estimated number of events (for the event number).\n",
    "\n",
    "To do this, I plan to scrape the UK Parkrun Wikipedia page, which has a list of UK Parkruns segmented by region. I want a complete list with predicted event number."
   ]
  },
  {
   "cell_type": "code",
   "execution_count": 14,
   "metadata": {},
   "outputs": [],
   "source": [
    "import numpy as np\n",
    "import pandas as pd\n",
    "import requests\n",
    "import bs4\n",
    "from bs4 import BeautifulSoup"
   ]
  },
  {
   "cell_type": "code",
   "execution_count": 10,
   "metadata": {},
   "outputs": [
    {
     "name": "stdout",
     "output_type": "stream",
     "text": [
      "200\n"
     ]
    }
   ],
   "source": [
    "response = requests.get(\n",
    "\turl=\"https://en.wikipedia.org/wiki/List_of_Parkruns_in_the_United_Kingdom\",\n",
    ")\n",
    "print(response.status_code)"
   ]
  },
  {
   "cell_type": "code",
   "execution_count": 13,
   "metadata": {},
   "outputs": [
    {
     "name": "stdout",
     "output_type": "stream",
     "text": [
      "List of Parkruns in the United Kingdom\n"
     ]
    }
   ],
   "source": [
    "response = requests.get(\n",
    "\turl=\"https://en.wikipedia.org/wiki/List_of_Parkruns_in_the_United_Kingdom\",\n",
    ")\n",
    "\n",
    "soup = BeautifulSoup(response.content, 'html.parser')\n",
    "\n",
    "title = soup.find(id=\"firstHeading\")\n",
    "print(title.string)"
   ]
  },
  {
   "cell_type": "code",
   "execution_count": 88,
   "metadata": {},
   "outputs": [
    {
     "name": "stdout",
     "output_type": "stream",
     "text": [
      "Channel Islands\n"
     ]
    }
   ],
   "source": [
    "location = soup.find(\"span\", {\"class\":\"mw-headline\"})\n",
    "print(location.string)\n",
    "\n",
    "\n",
    "locations = soup.find_all(\"span\", {\"class\":\"mw-headline\"})\n",
    "loc_container = np.empty(len(locations), dtype=object)\n",
    "\n",
    "\n",
    "for i in range(len(locations)):\n",
    "    loc_container[i] = locations[i].text\n"
   ]
  },
  {
   "cell_type": "code",
   "execution_count": 92,
   "metadata": {},
   "outputs": [],
   "source": [
    "Location_list = loc_container[:13]"
   ]
  },
  {
   "cell_type": "code",
   "execution_count": 67,
   "metadata": {},
   "outputs": [],
   "source": [
    "# Channel islands\n",
    "\n",
    "channel = soup.find('table',{'class':\"wikitable\"})\n",
    "\n",
    "#print(channel)"
   ]
  },
  {
   "cell_type": "code",
   "execution_count": 24,
   "metadata": {},
   "outputs": [
    {
     "name": "stdout",
     "output_type": "stream",
     "text": [
      "                   Name               Location   Started on  \\\n",
      "0  Guernsey Parkrun[10]   L'Ancresse, Guernsey   9 Apr 2016   \n",
      "1    Jersey Parkrun[11]  Saint Brelade, Jersey  26 Sep 2015   \n",
      "\n",
      "                                               Notes  \n",
      "0  A coastal two-lap course over mixed terrain an...  \n",
      "1  Starts and finishes at Les Quennevais Sports C...  \n"
     ]
    },
    {
     "data": {
      "text/html": [
       "<div>\n",
       "<style scoped>\n",
       "    .dataframe tbody tr th:only-of-type {\n",
       "        vertical-align: middle;\n",
       "    }\n",
       "\n",
       "    .dataframe tbody tr th {\n",
       "        vertical-align: top;\n",
       "    }\n",
       "\n",
       "    .dataframe thead th {\n",
       "        text-align: right;\n",
       "    }\n",
       "</style>\n",
       "<table border=\"1\" class=\"dataframe\">\n",
       "  <thead>\n",
       "    <tr style=\"text-align: right;\">\n",
       "      <th></th>\n",
       "      <th>Name</th>\n",
       "      <th>Location</th>\n",
       "      <th>Started on</th>\n",
       "    </tr>\n",
       "  </thead>\n",
       "  <tbody>\n",
       "    <tr>\n",
       "      <th>0</th>\n",
       "      <td>Guernsey Parkrun[10]</td>\n",
       "      <td>L'Ancresse, Guernsey</td>\n",
       "      <td>9 Apr 2016</td>\n",
       "    </tr>\n",
       "    <tr>\n",
       "      <th>1</th>\n",
       "      <td>Jersey Parkrun[11]</td>\n",
       "      <td>Saint Brelade, Jersey</td>\n",
       "      <td>26 Sep 2015</td>\n",
       "    </tr>\n",
       "  </tbody>\n",
       "</table>\n",
       "</div>"
      ],
      "text/plain": [
       "                   Name               Location   Started on\n",
       "0  Guernsey Parkrun[10]   L'Ancresse, Guernsey   9 Apr 2016\n",
       "1    Jersey Parkrun[11]  Saint Brelade, Jersey  26 Sep 2015"
      ]
     },
     "execution_count": 24,
     "metadata": {},
     "output_type": "execute_result"
    }
   ],
   "source": [
    "df = pd.read_html(str(channel))\n",
    "df = pd.DataFrame(df[0])\n",
    "print(df.head())\n",
    "\n",
    "channel_data = df.drop([\"Notes\"], axis=1)\n",
    "\n",
    "channel_data.head()\n"
   ]
  },
  {
   "cell_type": "code",
   "execution_count": 240,
   "metadata": {},
   "outputs": [],
   "source": [
    "# All\n",
    "\n",
    "all = soup.find_all('table',{'class':\"wikitable\"})\n",
    "\n",
    "df = pd.read_html(str(all))\n",
    "\n",
    "\n",
    "\n",
    "for i in range(len(df)):\n",
    "    \n",
    "    Location_list[i] = pd.DataFrame(df[i])\n",
    "\n",
    "\n",
    "# df = df.drop([\"Notes\"])\n",
    "\n",
    "# channel = df[0]\n",
    "# eastmid = df[1]\n",
    "# easteng = df[2]\n",
    "\n",
    "\n",
    "# df = pd.DataFrame(df[0])\n",
    "# print(df.head())\n",
    "\n",
    "# data = df.drop([\"Notes\"], axis=1)\n",
    "\n",
    "# data.head()"
   ]
  },
  {
   "cell_type": "code",
   "execution_count": 241,
   "metadata": {},
   "outputs": [],
   "source": [
    "for i in range(len(Location_list)):\n",
    "    if i>0:\n",
    "        old = str(Location_list[i].columns[3])\n",
    "        Location_list[i] = Location_list[i].rename(columns={old:\"Date\"})"
   ]
  },
  {
   "cell_type": "code",
   "execution_count": 242,
   "metadata": {},
   "outputs": [],
   "source": [
    "data = Location_list[1]\n",
    "\n",
    "for i in range(len(Location_list)):\n",
    "    if i>1:\n",
    "        data = pd.merge(data, Location_list[i], how='outer')"
   ]
  },
  {
   "cell_type": "code",
   "execution_count": 243,
   "metadata": {},
   "outputs": [],
   "source": [
    "data.to_csv(\"parkrun1.csv\")"
   ]
  },
  {
   "cell_type": "code",
   "execution_count": 244,
   "metadata": {},
   "outputs": [
    {
     "data": {
      "text/plain": [
       "datetime.datetime(2022, 11, 6, 17, 56, 54, 303730)"
      ]
     },
     "execution_count": 244,
     "metadata": {},
     "output_type": "execute_result"
    }
   ],
   "source": [
    "from datetime import datetime, timedelta\n",
    "d_today = datetime.today().strftime('%Y-%m-%d')\n",
    "\n",
    "d_today = datetime.today()\n",
    "\n",
    "d_today\n",
    "\n",
    "data['Date'] = pd.to_datetime(data['Date'])"
   ]
  },
  {
   "cell_type": "code",
   "execution_count": 271,
   "metadata": {},
   "outputs": [],
   "source": [
    "event_no = (d_today - data['Date'])/7\n",
    "\n",
    "event_no = event_no.dt.days\n",
    "\n",
    "data['Event Number'] = event_no"
   ]
  },
  {
   "cell_type": "code",
   "execution_count": 274,
   "metadata": {},
   "outputs": [],
   "source": [
    "data = data.drop([\"Notes\",\"Date\"], axis=1)"
   ]
  },
  {
   "cell_type": "code",
   "execution_count": 275,
   "metadata": {},
   "outputs": [],
   "source": [
    "data.to_csv(\"parkrun2.csv\")"
   ]
  },
  {
   "cell_type": "code",
   "execution_count": null,
   "metadata": {},
   "outputs": [],
   "source": []
  }
 ],
 "metadata": {
  "kernelspec": {
   "display_name": "Python 3.8.8 ('base')",
   "language": "python",
   "name": "python3"
  },
  "language_info": {
   "codemirror_mode": {
    "name": "ipython",
    "version": 3
   },
   "file_extension": ".py",
   "mimetype": "text/x-python",
   "name": "python",
   "nbconvert_exporter": "python",
   "pygments_lexer": "ipython3",
   "version": "3.8.8"
  },
  "orig_nbformat": 4,
  "vscode": {
   "interpreter": {
    "hash": "a4612a4b7fa53cc24da9036e6d31dbb4f4c5422e33136073430e4190579d7d4a"
   }
  }
 },
 "nbformat": 4,
 "nbformat_minor": 2
}
